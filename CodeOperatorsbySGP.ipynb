{
  "nbformat": 4,
  "nbformat_minor": 0,
  "metadata": {
    "colab": {
      "provenance": [],
      "authorship_tag": "ABX9TyPgRHCHgbbMDrm/m8MqTaKQ",
      "include_colab_link": true
    },
    "kernelspec": {
      "name": "python3",
      "display_name": "Python 3"
    },
    "language_info": {
      "name": "python"
    }
  },
  "cells": [
    {
      "cell_type": "markdown",
      "metadata": {
        "id": "view-in-github",
        "colab_type": "text"
      },
      "source": [
        "<a href=\"https://colab.research.google.com/github/sergiogonzalezperez/Programacion-Basica-CPP/blob/main/CodeOperatorsbySGP.ipynb\" target=\"_parent\"><img src=\"https://colab.research.google.com/assets/colab-badge.svg\" alt=\"Open In Colab\"/></a>"
      ]
    },
    {
      "cell_type": "code",
      "execution_count": null,
      "metadata": {
        "id": "D9Vegg_xz7oj"
      },
      "outputs": [],
      "source": []
    },
    {
      "cell_type": "markdown",
      "source": [
        "PBx Codigo de Operadores"
      ],
      "metadata": {
        "id": "APH8AtGgz8zo"
      }
    },
    {
      "cell_type": "code",
      "source": [
        "%%writefile operadores.cpp\n",
        "#include <iostream>\n",
        "using namespace std;\n",
        "int main() {\n",
        "    bool x = true, y = false;\n",
        "    cout<<\" Este es un ejemplo de operadores logicos\\n\";\n",
        "    std::cout << (x && y) << std::endl; // 0 (false)\n",
        "    std::cout << (x || y) << std::endl; // 1 (true)\n",
        "    std::cout << (!x) << std::endl;     // 0 (false)\n",
        "    return 0;\n",
        "}"
      ],
      "metadata": {
        "colab": {
          "base_uri": "https://localhost:8080/"
        },
        "id": "pTl3MqmLz_cp",
        "outputId": "255daab0-abc4-41d7-fe9c-f40b82d4a8a9"
      },
      "execution_count": 6,
      "outputs": [
        {
          "output_type": "stream",
          "name": "stdout",
          "text": [
            "Overwriting operadores.cpp\n"
          ]
        }
      ]
    },
    {
      "cell_type": "code",
      "source": [
        "   %%script bash\n",
        "        g++ operadores.cpp -o operadores\n",
        "        ./operadores"
      ],
      "metadata": {
        "colab": {
          "base_uri": "https://localhost:8080/"
        },
        "id": "2p0wrWzb0N_g",
        "outputId": "cb19e743-9671-4426-883e-8b9927fb4275"
      },
      "execution_count": 7,
      "outputs": [
        {
          "output_type": "stream",
          "name": "stdout",
          "text": [
            " Este es un ejemplo de operadores logicos\n",
            "0\n",
            "1\n",
            "0\n"
          ]
        }
      ]
    }
  ]
}