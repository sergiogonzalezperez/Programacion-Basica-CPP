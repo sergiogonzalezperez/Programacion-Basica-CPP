{
  "nbformat": 4,
  "nbformat_minor": 0,
  "metadata": {
    "colab": {
      "provenance": [],
      "authorship_tag": "ABX9TyP3GytoBix9BD0Sl844vBxa",
      "include_colab_link": true
    },
    "kernelspec": {
      "name": "python3",
      "display_name": "Python 3"
    },
    "language_info": {
      "name": "python"
    }
  },
  "cells": [
    {
      "cell_type": "markdown",
      "metadata": {
        "id": "view-in-github",
        "colab_type": "text"
      },
      "source": [
        "<a href=\"https://colab.research.google.com/github/sergiogonzalezperez/Programacion-Basica-CPP/blob/main/Copia_de_Practica_1C%2B%2B.ipynb\" target=\"_parent\"><img src=\"https://colab.research.google.com/assets/colab-badge.svg\" alt=\"Open In Colab\"/></a>"
      ]
    },
    {
      "cell_type": "code",
      "execution_count": null,
      "metadata": {
        "id": "Tjh53mLJovQN"
      },
      "outputs": [],
      "source": []
    },
    {
      "cell_type": "markdown",
      "source": [
        "Programa para imprimir nombre"
      ],
      "metadata": {
        "id": "uNVsu4RCowO7"
      }
    },
    {
      "cell_type": "code",
      "source": [
        "%%writefile PB0.cpp\n",
        "#include <iostream>\n",
        "using namespace std;\n",
        "\n",
        "int main() {\n",
        "    string nom;\n",
        "    cout<<\"Captura tu nombre\";\n",
        "    cin>>nom;\n",
        "    cout << \"Hello \"+nom+\" from C++ in Colab!\" << endl;\n",
        "    return 0;\n",
        "}\n"
      ],
      "metadata": {
        "colab": {
          "base_uri": "https://localhost:8080/"
        },
        "id": "0jU6TWchoz71",
        "outputId": "3722ac6b-322c-442e-dc30-33b957640179"
      },
      "execution_count": 4,
      "outputs": [
        {
          "output_type": "stream",
          "name": "stdout",
          "text": [
            "Overwriting PB0.cpp\n"
          ]
        }
      ]
    },
    {
      "cell_type": "code",
      "source": [
        "!g++ PB0.cpp -o PB0\n",
        "!./PB0"
      ],
      "metadata": {
        "colab": {
          "base_uri": "https://localhost:8080/"
        },
        "id": "p-9IqCtuxNtO",
        "outputId": "72909140-3170-4a1c-bc55-618b905c66a3"
      },
      "execution_count": 5,
      "outputs": [
        {
          "output_type": "stream",
          "name": "stdout",
          "text": [
            "Captura tu nombreSergio\n",
            "Hello Sergio from C++ in Colab!\n"
          ]
        }
      ]
    },
    {
      "cell_type": "markdown",
      "source": [
        "Primer programa en C++: \"Hola Mundo\""
      ],
      "metadata": {
        "id": "CSK3toKpft88"
      }
    },
    {
      "cell_type": "code",
      "source": [
        "%%writefile PB1.cpp\n",
        "//Nombre de Estudiante\n",
        "//Fecha de Creación\n",
        "//Breve Descripción del Código\n",
        "//Nombre de Archivo.CPP\n",
        "#include <iostream>\n",
        "using namespace std;\n",
        "int main() {\n",
        "    cout << \"Hola Mundo\" << endl;\n",
        "    return 0;\n",
        "}"
      ],
      "metadata": {
        "colab": {
          "base_uri": "https://localhost:8080/"
        },
        "id": "aHjMG84zfxRF",
        "outputId": "c031d9c6-74a0-4adc-d5fb-24c9094af6e1"
      },
      "execution_count": 6,
      "outputs": [
        {
          "output_type": "stream",
          "name": "stdout",
          "text": [
            "Writing PB1.cpp\n"
          ]
        }
      ]
    },
    {
      "cell_type": "code",
      "source": [
        "!g++ PB1.cpp -o PB1\n",
        "!./PB1"
      ],
      "metadata": {
        "colab": {
          "base_uri": "https://localhost:8080/"
        },
        "id": "x0VhTZTJgDmx",
        "outputId": "130274d6-51f9-43f0-fda2-5554ef40aee1"
      },
      "execution_count": 7,
      "outputs": [
        {
          "output_type": "stream",
          "name": "stdout",
          "text": [
            "Hola Mundo\n"
          ]
        }
      ]
    }
  ]
}