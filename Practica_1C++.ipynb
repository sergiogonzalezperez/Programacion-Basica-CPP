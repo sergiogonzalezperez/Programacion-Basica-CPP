{
  "nbformat": 4,
  "nbformat_minor": 0,
  "metadata": {
    "colab": {
      "provenance": [],
      "authorship_tag": "ABX9TyMyqMrprT5JwP9EdzX48C/I",
      "include_colab_link": true
    },
    "kernelspec": {
      "name": "python3",
      "display_name": "Python 3"
    },
    "language_info": {
      "name": "python"
    }
  },
  "cells": [
    {
      "cell_type": "markdown",
      "metadata": {
        "id": "view-in-github",
        "colab_type": "text"
      },
      "source": [
        "<a href=\"https://colab.research.google.com/github/sergiogonzalezperez/Programacion-Basica-CPP/blob/main/Practica_1C%2B%2B.ipynb\" target=\"_parent\"><img src=\"https://colab.research.google.com/assets/colab-badge.svg\" alt=\"Open In Colab\"/></a>"
      ]
    },
    {
      "cell_type": "code",
      "execution_count": null,
      "metadata": {
        "id": "Tjh53mLJovQN"
      },
      "outputs": [],
      "source": []
    },
    {
      "cell_type": "markdown",
      "source": [
        "Programa para capturar e imprimir nombre desde teclado"
      ],
      "metadata": {
        "id": "uNVsu4RCowO7"
      }
    },
    {
      "cell_type": "code",
      "source": [
        "%%writefile PB0.cpp\n",
        "#include <iostream>\n",
        "using namespace std;\n",
        "\n",
        "int main() {\n",
        "    string nom;\n",
        "    cout<<\"Captura tu nombre\";\n",
        "    cin>>nom;\n",
        "    cout << \"Hello \"+nom+\" from C++ in Colab!\" << endl;\n",
        "    return 0;\n",
        "}\n"
      ],
      "metadata": {
        "colab": {
          "base_uri": "https://localhost:8080/"
        },
        "id": "0jU6TWchoz71",
        "outputId": "2c140ba8-833e-432c-fbe1-e1cfa15a198b"
      },
      "execution_count": 38,
      "outputs": [
        {
          "output_type": "stream",
          "name": "stdout",
          "text": [
            "Overwriting PB0.cpp\n"
          ]
        }
      ]
    },
    {
      "cell_type": "code",
      "source": [
        "!g++ PB0.cpp -o PB0\n",
        "!./PB0"
      ],
      "metadata": {
        "colab": {
          "base_uri": "https://localhost:8080/"
        },
        "id": "p-9IqCtuxNtO",
        "outputId": "062a0d4c-3313-45ac-96ef-67427f824859"
      },
      "execution_count": 41,
      "outputs": [
        {
          "output_type": "stream",
          "name": "stdout",
          "text": [
            "Captura tu nombreRyS\n",
            "Hello RyS from C++ in Colab!\n"
          ]
        }
      ]
    }
  ]
}